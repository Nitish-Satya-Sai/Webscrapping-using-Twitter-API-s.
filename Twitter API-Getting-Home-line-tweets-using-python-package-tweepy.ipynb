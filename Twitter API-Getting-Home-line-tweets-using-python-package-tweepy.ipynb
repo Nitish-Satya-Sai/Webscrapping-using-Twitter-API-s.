{
 "cells": [
  {
   "cell_type": "code",
   "execution_count": 3,
   "id": "4cbead5d",
   "metadata": {},
   "outputs": [],
   "source": [
    "import tweepy\n",
    "import configparser\n"
   ]
  },
  {
   "cell_type": "code",
   "execution_count": 7,
   "id": "980cd930",
   "metadata": {},
   "outputs": [
    {
     "data": {
      "text/plain": [
       "['config.ini']"
      ]
     },
     "execution_count": 7,
     "metadata": {},
     "output_type": "execute_result"
    }
   ],
   "source": [
    "conobj = configparser.ConfigParser()\n",
    "conobj.read(\"config.ini\")"
   ]
  },
  {
   "cell_type": "code",
   "execution_count": 9,
   "id": "a5838a13",
   "metadata": {},
   "outputs": [],
   "source": [
    "api_key = conobj[\"bluebird\"][\"API_Key\"]\n",
    "api_key_secret = conobj[\"bluebird\"][\"API_Key_Secret\"]\n",
    "access_token = conobj[\"bluebird\"][\"ACCESS_TOKEN\"]\n",
    "access_token_secret = conobj[\"bluebird\"][\"ACCESS_TOKEN_SECRET\"]\n"
   ]
  },
  {
   "cell_type": "markdown",
   "id": "df67dead",
   "metadata": {},
   "source": [
    "## AUTHENTICATION"
   ]
  },
  {
   "cell_type": "code",
   "execution_count": 11,
   "id": "01de9ef4",
   "metadata": {},
   "outputs": [],
   "source": [
    "auth = tweepy.OAuthHandler(api_key,api_key_secret)\n",
    "auth.set_access_token(access_token,access_token_secret)\n",
    "api=tweepy.API(auth)"
   ]
  },
  {
   "cell_type": "code",
   "execution_count": 12,
   "id": "9600893f",
   "metadata": {},
   "outputs": [],
   "source": [
    "publictweets = api.home_timeline()"
   ]
  },
  {
   "cell_type": "code",
   "execution_count": 27,
   "id": "07261664",
   "metadata": {},
   "outputs": [],
   "source": [
    "columns = [\"Timeline\",\"User\",\"tweet\"]\n",
    "data=[]\n",
    "for tweets in publictweets:\n",
    "    data.append([tweets.created_at,tweets.user.screen_name,tweets.text])"
   ]
  },
  {
   "cell_type": "code",
   "execution_count": 30,
   "id": "8f1cb7dc",
   "metadata": {},
   "outputs": [
    {
     "data": {
      "text/html": [
       "<div>\n",
       "<style scoped>\n",
       "    .dataframe tbody tr th:only-of-type {\n",
       "        vertical-align: middle;\n",
       "    }\n",
       "\n",
       "    .dataframe tbody tr th {\n",
       "        vertical-align: top;\n",
       "    }\n",
       "\n",
       "    .dataframe thead th {\n",
       "        text-align: right;\n",
       "    }\n",
       "</style>\n",
       "<table border=\"1\" class=\"dataframe\">\n",
       "  <thead>\n",
       "    <tr style=\"text-align: right;\">\n",
       "      <th></th>\n",
       "      <th>Timeline</th>\n",
       "      <th>User</th>\n",
       "      <th>tweet</th>\n",
       "    </tr>\n",
       "  </thead>\n",
       "  <tbody>\n",
       "    <tr>\n",
       "      <th>0</th>\n",
       "      <td>2022-09-12 13:51:35+00:00</td>\n",
       "      <td>AmitShah</td>\n",
       "      <td>Speaking on the ‘Relevance of Cooperative inst...</td>\n",
       "    </tr>\n",
       "    <tr>\n",
       "      <th>1</th>\n",
       "      <td>2022-09-12 13:13:35+00:00</td>\n",
       "      <td>narendramodi</td>\n",
       "      <td>#MannKiBaat is enriched by diverse inputs and ...</td>\n",
       "    </tr>\n",
       "    <tr>\n",
       "      <th>2</th>\n",
       "      <td>2022-09-12 13:13:01+00:00</td>\n",
       "      <td>narendramodi</td>\n",
       "      <td>Commendable...I appreciate all those involved ...</td>\n",
       "    </tr>\n",
       "    <tr>\n",
       "      <th>3</th>\n",
       "      <td>2022-09-12 12:17:04+00:00</td>\n",
       "      <td>BCCI</td>\n",
       "      <td>One title 🏆\\nOne goal 🎯\\nOur squad 💪🏻\\n\\n#Team...</td>\n",
       "    </tr>\n",
       "    <tr>\n",
       "      <th>4</th>\n",
       "      <td>2022-09-12 11:59:54+00:00</td>\n",
       "      <td>Flipkart</td>\n",
       "      <td>Catch @RajivMakhni, #RohanJoshi and #MallikaDu...</td>\n",
       "    </tr>\n",
       "    <tr>\n",
       "      <th>5</th>\n",
       "      <td>2022-09-12 11:59:53+00:00</td>\n",
       "      <td>Flipkart</td>\n",
       "      <td>Get your hands on 🔥 deals on @IndiaPoco smartp...</td>\n",
       "    </tr>\n",
       "    <tr>\n",
       "      <th>6</th>\n",
       "      <td>2022-09-12 11:58:36+00:00</td>\n",
       "      <td>S2G_ciei</td>\n",
       "      <td>#IndianNavy - Innovation begins at home so ind...</td>\n",
       "    </tr>\n",
       "    <tr>\n",
       "      <th>7</th>\n",
       "      <td>2022-09-12 11:54:30+00:00</td>\n",
       "      <td>BCCI</td>\n",
       "      <td>🚨 NEWS 🚨: India’s squads for ICC Men’s T20 Wor...</td>\n",
       "    </tr>\n",
       "    <tr>\n",
       "      <th>8</th>\n",
       "      <td>2022-09-12 11:49:21+00:00</td>\n",
       "      <td>ICC</td>\n",
       "      <td>🚨 JUST IN 🚨\\n\\nIndia's squad for the ICC Men's...</td>\n",
       "    </tr>\n",
       "    <tr>\n",
       "      <th>9</th>\n",
       "      <td>2022-09-12 11:45:17+00:00</td>\n",
       "      <td>BCCI</td>\n",
       "      <td>Standby players - Mohd. Shami, Shreyas Iyer, R...</td>\n",
       "    </tr>\n",
       "    <tr>\n",
       "      <th>10</th>\n",
       "      <td>2022-09-12 11:44:46+00:00</td>\n",
       "      <td>BCCI</td>\n",
       "      <td>🚨 NEWS: India’s squad for ICC Men’s T20 World ...</td>\n",
       "    </tr>\n",
       "    <tr>\n",
       "      <th>11</th>\n",
       "      <td>2022-09-12 11:38:04+00:00</td>\n",
       "      <td>OnePlus_IN</td>\n",
       "      <td>Hey @amazonIN, you know what? Something is com...</td>\n",
       "    </tr>\n",
       "    <tr>\n",
       "      <th>12</th>\n",
       "      <td>2022-09-12 11:30:37+00:00</td>\n",
       "      <td>ICC</td>\n",
       "      <td>England emerged as victors in one of the short...</td>\n",
       "    </tr>\n",
       "    <tr>\n",
       "      <th>13</th>\n",
       "      <td>2022-09-12 10:31:56+00:00</td>\n",
       "      <td>ICC</td>\n",
       "      <td>See how the final #ENGvSA Test's result has af...</td>\n",
       "    </tr>\n",
       "    <tr>\n",
       "      <th>14</th>\n",
       "      <td>2022-09-12 10:28:02+00:00</td>\n",
       "      <td>ICC</td>\n",
       "      <td>England win The Oval Test and take the series ...</td>\n",
       "    </tr>\n",
       "    <tr>\n",
       "      <th>15</th>\n",
       "      <td>2022-09-12 10:21:41+00:00</td>\n",
       "      <td>iamprasadtech</td>\n",
       "      <td>Check out our opinion on the OPPO Enco Buds2 i...</td>\n",
       "    </tr>\n",
       "    <tr>\n",
       "      <th>16</th>\n",
       "      <td>2022-09-12 10:14:22+00:00</td>\n",
       "      <td>ICC</td>\n",
       "      <td>Alex Lees misses out on his half-century ☝️\\n\\...</td>\n",
       "    </tr>\n",
       "    <tr>\n",
       "      <th>17</th>\n",
       "      <td>2022-09-12 10:14:01+00:00</td>\n",
       "      <td>OnePlus_IN</td>\n",
       "      <td>Festivities are all about being connected, and...</td>\n",
       "    </tr>\n",
       "    <tr>\n",
       "      <th>18</th>\n",
       "      <td>2022-09-12 09:54:38+00:00</td>\n",
       "      <td>ICC</td>\n",
       "      <td>England will resume Day 5 on 97/0 and they nee...</td>\n",
       "    </tr>\n",
       "    <tr>\n",
       "      <th>19</th>\n",
       "      <td>2022-09-12 08:57:06+00:00</td>\n",
       "      <td>narendramodi</td>\n",
       "      <td>The Government of India is working with the st...</td>\n",
       "    </tr>\n",
       "  </tbody>\n",
       "</table>\n",
       "</div>"
      ],
      "text/plain": [
       "                    Timeline           User  \\\n",
       "0  2022-09-12 13:51:35+00:00       AmitShah   \n",
       "1  2022-09-12 13:13:35+00:00   narendramodi   \n",
       "2  2022-09-12 13:13:01+00:00   narendramodi   \n",
       "3  2022-09-12 12:17:04+00:00           BCCI   \n",
       "4  2022-09-12 11:59:54+00:00       Flipkart   \n",
       "5  2022-09-12 11:59:53+00:00       Flipkart   \n",
       "6  2022-09-12 11:58:36+00:00       S2G_ciei   \n",
       "7  2022-09-12 11:54:30+00:00           BCCI   \n",
       "8  2022-09-12 11:49:21+00:00            ICC   \n",
       "9  2022-09-12 11:45:17+00:00           BCCI   \n",
       "10 2022-09-12 11:44:46+00:00           BCCI   \n",
       "11 2022-09-12 11:38:04+00:00     OnePlus_IN   \n",
       "12 2022-09-12 11:30:37+00:00            ICC   \n",
       "13 2022-09-12 10:31:56+00:00            ICC   \n",
       "14 2022-09-12 10:28:02+00:00            ICC   \n",
       "15 2022-09-12 10:21:41+00:00  iamprasadtech   \n",
       "16 2022-09-12 10:14:22+00:00            ICC   \n",
       "17 2022-09-12 10:14:01+00:00     OnePlus_IN   \n",
       "18 2022-09-12 09:54:38+00:00            ICC   \n",
       "19 2022-09-12 08:57:06+00:00   narendramodi   \n",
       "\n",
       "                                                tweet  \n",
       "0   Speaking on the ‘Relevance of Cooperative inst...  \n",
       "1   #MannKiBaat is enriched by diverse inputs and ...  \n",
       "2   Commendable...I appreciate all those involved ...  \n",
       "3   One title 🏆\\nOne goal 🎯\\nOur squad 💪🏻\\n\\n#Team...  \n",
       "4   Catch @RajivMakhni, #RohanJoshi and #MallikaDu...  \n",
       "5   Get your hands on 🔥 deals on @IndiaPoco smartp...  \n",
       "6   #IndianNavy - Innovation begins at home so ind...  \n",
       "7   🚨 NEWS 🚨: India’s squads for ICC Men’s T20 Wor...  \n",
       "8   🚨 JUST IN 🚨\\n\\nIndia's squad for the ICC Men's...  \n",
       "9   Standby players - Mohd. Shami, Shreyas Iyer, R...  \n",
       "10  🚨 NEWS: India’s squad for ICC Men’s T20 World ...  \n",
       "11  Hey @amazonIN, you know what? Something is com...  \n",
       "12  England emerged as victors in one of the short...  \n",
       "13  See how the final #ENGvSA Test's result has af...  \n",
       "14  England win The Oval Test and take the series ...  \n",
       "15  Check out our opinion on the OPPO Enco Buds2 i...  \n",
       "16  Alex Lees misses out on his half-century ☝️\\n\\...  \n",
       "17  Festivities are all about being connected, and...  \n",
       "18  England will resume Day 5 on 97/0 and they nee...  \n",
       "19  The Government of India is working with the st...  "
      ]
     },
     "execution_count": 30,
     "metadata": {},
     "output_type": "execute_result"
    }
   ],
   "source": [
    "import pandas as pd\n",
    "df=pd.DataFrame(data,columns=columns)\n",
    "df"
   ]
  },
  {
   "cell_type": "code",
   "execution_count": 31,
   "id": "8827cee1",
   "metadata": {},
   "outputs": [],
   "source": [
    "df.to_csv(\"tweets_data.csv\")"
   ]
  }
 ],
 "metadata": {
  "kernelspec": {
   "display_name": "Python 3 (ipykernel)",
   "language": "python",
   "name": "python3"
  },
  "language_info": {
   "codemirror_mode": {
    "name": "ipython",
    "version": 3
   },
   "file_extension": ".py",
   "mimetype": "text/x-python",
   "name": "python",
   "nbconvert_exporter": "python",
   "pygments_lexer": "ipython3",
   "version": "3.9.7"
  }
 },
 "nbformat": 4,
 "nbformat_minor": 5
}
